{
  "nbformat": 4,
  "nbformat_minor": 0,
  "metadata": {
    "colab": {
      "name": "suport_vector_machine.ipynb",
      "provenance": [],
      "collapsed_sections": [],
      "authorship_tag": "ABX9TyNe9rHlotAIt5rMUpL6+ek9",
      "include_colab_link": true
    },
    "kernelspec": {
      "name": "python3",
      "display_name": "Python 3"
    }
  },
  "cells": [
    {
      "cell_type": "markdown",
      "metadata": {
        "id": "view-in-github",
        "colab_type": "text"
      },
      "source": [
        "<a href=\"https://colab.research.google.com/github/esadausk/data_mining/blob/main/suport_vector_machine.ipynb\" target=\"_parent\"><img src=\"https://colab.research.google.com/assets/colab-badge.svg\" alt=\"Open In Colab\"/></a>"
      ]
    },
    {
      "cell_type": "markdown",
      "metadata": {
        "id": "4-lK0HxtXDdI"
      },
      "source": [
        "SUPPORT VECTOR MACHINE\n",
        "\n"
      ]
    },
    {
      "cell_type": "code",
      "metadata": {
        "id": "6xPNWN2vSwSS"
      },
      "source": [
        "#Libraries\n",
        "from sklearn.svm import LinearSVC\n",
        "from sklearn import datasets\n",
        "from sklearn.preprocessing import StandardScaler\n",
        "import numpy as np\n",
        "from matplotlib import pyplot as plt\n",
        "from matplotlib.colors import ListedColormap\n",
        "from sklearn.svm import SVC"
      ],
      "execution_count": null,
      "outputs": []
    },
    {
      "cell_type": "markdown",
      "metadata": {
        "id": "dZtXYJ_HZjlR"
      },
      "source": [
        "Linear Classifier"
      ]
    },
    {
      "cell_type": "code",
      "metadata": {
        "id": "0xrdqBzJXeAd"
      },
      "source": [
        "#Loading data with two classes and two features only\n",
        "iris = datasets.load_iris()\n",
        "features = iris.data[:100,:2]\n",
        "target = iris.target[:100]"
      ],
      "execution_count": null,
      "outputs": []
    },
    {
      "cell_type": "code",
      "metadata": {
        "id": "xOoDsgFnYKnf"
      },
      "source": [
        "#Standardize\n",
        "scaler = StandardScaler()\n",
        "features_standardized = scaler.fit_transform(features)\n",
        "\n",
        "#SVM classifier \n",
        "svc = LinearSVC(C=1.0)\n",
        "\n",
        "#Train model\n",
        "model = svc.fit(features_standardized, target)"
      ],
      "execution_count": null,
      "outputs": []
    },
    {
      "cell_type": "code",
      "metadata": {
        "colab": {
          "base_uri": "https://localhost:8080/",
          "height": 248
        },
        "id": "1jqL3ZjSYn_2",
        "outputId": "8da39b7f-84eb-4957-a079-8bd3e3d48e3b"
      },
      "source": [
        "# Plot data points and color using their class\n",
        "color = [\"black\" if c == 0 else \"lightgrey\" for c in target]\n",
        "plt.scatter(features_standardized[:,0], features_standardized[:,1], c=color)\n",
        "\n",
        "# Create the hyperplane\n",
        "w = svc.coef_[0]\n",
        "a = -w[0] / w[1]\n",
        "xx = np.linspace(-2.5, 2.5)\n",
        "yy = a * xx - (svc.intercept_[0]) / w[1]\n",
        "\n",
        "# Plot the hyperplane\n",
        "plt.plot(xx, yy)\n",
        "plt.axis(\"off\"), plt.show();"
      ],
      "execution_count": null,
      "outputs": [
        {
          "output_type": "display_data",
          "data": {
            "image/png": "[encoded data removed]",
            "text/plain": [
              "<Figure size 432x288 with 1 Axes>"
            ]
          },
          "metadata": {
            "tags": [],
            "needs_background": "light"
          }
        }
      ]
    },
    {
      "cell_type": "code",
      "metadata": {
        "colab": {
          "base_uri": "https://localhost:8080/"
        },
        "id": "nj6AdhzcZF0P",
        "outputId": "fe30ad96-1034-4956-c57d-5fa7860ca9b4"
      },
      "source": [
        "#New observation\n",
        "new_observation = [[ -2, 3]]\n",
        "\n",
        "# Predict class of new observation\n",
        "svc.predict(new_observation)"
      ],
      "execution_count": null,
      "outputs": [
        {
          "output_type": "execute_result",
          "data": {
            "text/plain": [
              "array([0])"
            ]
          },
          "metadata": {
            "tags": []
          },
          "execution_count": 6
        }
      ]
    },
    {
      "cell_type": "markdown",
      "metadata": {
        "id": "q76ldWTqZpEi"
      },
      "source": [
        "Handling Linearly Inseparable Classes Using Kernels"
      ]
    },
    {
      "cell_type": "code",
      "metadata": {
        "id": "aZ1YPPGVZgzK"
      },
      "source": [
        "# Set randomization seed\n",
        "np.random.seed(0)\n",
        "\n",
        "# Generate two features\n",
        "features = np.random.randn(200, 2)\n",
        "\n",
        "# Use a XOR gate (you don't need to know what this is) to generate\n",
        "# linearly inseparable classes\n",
        "target_xor = np.logical_xor(features[:, 0] > 0, features[:, 1] > 0)\n",
        "target = np.where(target_xor, 0, 1)\n",
        "\n",
        "# Create a support vector machine with a radial basis function kernel\n",
        "svc = SVC(kernel=\"rbf\", random_state=0, gamma=1, C=1)\n",
        "\n",
        "# Train the classifier\n",
        "model = svc.fit(features, target)"
      ],
      "execution_count": null,
      "outputs": []
    },
    {
      "cell_type": "code",
      "metadata": {
        "id": "keTtCWonZ-a9"
      },
      "source": [
        "# Plot observations and decision boundary hyperplane\n",
        "def plot_decision_regions(X, y, classifier):\n",
        "  cmap = ListedColormap((\"red\", \"blue\"))\n",
        "  xx1, xx2 = np.meshgrid(np.arange(-3, 3, 0.02), np.arange(-3, 3, 0.02))\n",
        "  Z = classifier.predict(np.array([xx1.ravel(), xx2.ravel()]).T)\n",
        "  Z = Z.reshape(xx1.shape)\n",
        "  plt.contourf(xx1, xx2, Z, alpha=0.1, cmap=cmap)\n",
        "\n",
        "  for idx, cl in enumerate(np.unique(y)):\n",
        "    plt.scatter(x=X[y == cl, 0], y=X[y == cl, 1],\n",
        "              alpha=0.8, c=cmap(idx),\n",
        "              marker=\"+\", label=cl)"
      ],
      "execution_count": null,
      "outputs": []
    },
    {
      "cell_type": "code",
      "metadata": {
        "colab": {
          "base_uri": "https://localhost:8080/"
        },
        "id": "p6T6Z56VaWPp",
        "outputId": "33321555-f37e-4c9f-81ef-b75f9700e228"
      },
      "source": [
        "# Create support vector classifier with a linear kernel\n",
        "svc_linear = SVC(kernel=\"linear\", random_state=0, C=1)\n",
        "\n",
        "# Train model\n",
        "svc_linear.fit(features, target)\n",
        "\n",
        "print(svc_linear)\n",
        "#Alpha coefs\n",
        "alphas = np.abs(svc_linear.dual_coef_)\n",
        "print(alphas)"
      ],
      "execution_count": null,
      "outputs": [
        {
          "output_type": "stream",
          "text": [
            "SVC(C=1, break_ties=False, cache_size=200, class_weight=None, coef0=0.0,\n",
            "    decision_function_shape='ovr', degree=3, gamma='scale', kernel='linear',\n",
            "    max_iter=-1, probability=False, random_state=0, shrinking=True, tol=0.001,\n",
            "    verbose=False)\n",
            "[[0.28290001 0.40888134 0.69178135]]\n"
          ],
          "name": "stdout"
        }
      ]
    },
    {
      "cell_type": "code",
      "metadata": {
        "colab": {
          "base_uri": "https://localhost:8080/",
          "height": 303
        },
        "id": "NGbRP25GaYr5",
        "outputId": "ca646b5f-2778-4279-ccab-3eedf16a6714"
      },
      "source": [
        "# Plot observations and hyperplane\n",
        "plot_decision_regions(features, target, classifier=svc_linear)\n",
        "plt.axis(\"off\"), plt.show();"
      ],
      "execution_count": null,
      "outputs": [
        {
          "output_type": "stream",
          "text": [
            "*c* argument looks like a single numeric RGB or RGBA sequence, which should be avoided as value-mapping will have precedence in case its length matches with *x* & *y*.  Please use the *color* keyword-argument or provide a 2-D array with a single row if you intend to specify the same RGB or RGBA value for all points.\n",
            "*c* argument looks like a single numeric RGB or RGBA sequence, which should be avoided as value-mapping will have precedence in case its length matches with *x* & *y*.  Please use the *color* keyword-argument or provide a 2-D array with a single row if you intend to specify the same RGB or RGBA value for all points.\n"
          ],
          "name": "stderr"
        },
        {
          "output_type": "display_data",
          "data": {
            "image/png": "[encoded data removed]",
            "text/plain": [
              "<Figure size 432x288 with 1 Axes>"
            ]
          },
          "metadata": {
            "tags": [],
            "needs_background": "light"
          }
        }
      ]
    },
    {
      "cell_type": "code",
      "metadata": {
        "id": "8KXz5WC2acVT"
      },
      "source": [
        "# Create a support vector machine with a radial basis function kernel\n",
        "svc = SVC(kernel=\"rbf\", random_state=0, gamma=1, C=1)\n",
        "\n",
        "# Train the classifier\n",
        "model = svc.fit(features, target)"
      ],
      "execution_count": null,
      "outputs": []
    },
    {
      "cell_type": "code",
      "metadata": {
        "colab": {
          "base_uri": "https://localhost:8080/",
          "height": 303
        },
        "id": "wUjkfDEuafjq",
        "outputId": "2165c9d3-f95e-4c85-c963-306f84e0b23a"
      },
      "source": [
        "# Plot observations and hyperplane\n",
        "plot_decision_regions(features, target, classifier=svc)\n",
        "plt.axis(\"off\"), plt.show();"
      ],
      "execution_count": null,
      "outputs": [
        {
          "output_type": "stream",
          "text": [
            "*c* argument looks like a single numeric RGB or RGBA sequence, which should be avoided as value-mapping will have precedence in case its length matches with *x* & *y*.  Please use the *color* keyword-argument or provide a 2-D array with a single row if you intend to specify the same RGB or RGBA value for all points.\n",
            "*c* argument looks like a single numeric RGB or RGBA sequence, which should be avoided as value-mapping will have precedence in case its length matches with *x* & *y*.  Please use the *color* keyword-argument or provide a 2-D array with a single row if you intend to specify the same RGB or RGBA value for all points.\n"
          ],
          "name": "stderr"
        },
        {
          "output_type": "display_data",
          "data": {
            "image/png": "[encoded data removed]",
            "text/plain": [
              "<Figure size 432x288 with 1 Axes>"
            ]
          },
          "metadata": {
            "tags": [],
            "needs_background": "light"
          }
        }
      ]
    },
    {
      "cell_type": "markdown",
      "metadata": {
        "id": "1_LdbZBjaztS"
      },
      "source": [
        "Creating Predicted Probabilities"
      ]
    },
    {
      "cell_type": "code",
      "metadata": {
        "id": "ke750IyXa1RU"
      },
      "source": [
        "# Load data\n",
        "iris = datasets.load_iris()\n",
        "features = iris.data\n",
        "target = iris.target\n",
        "\n",
        "# Standardize features\n",
        "scaler = StandardScaler()\n",
        "features_standardized = scaler.fit_transform(features)"
      ],
      "execution_count": null,
      "outputs": []
    },
    {
      "cell_type": "code",
      "metadata": {
        "colab": {
          "base_uri": "https://localhost:8080/"
        },
        "id": "833Ktd6Ka6Na",
        "outputId": "c14c5926-648f-4baa-83cf-6ad1131085c6"
      },
      "source": [
        "# Create support vector classifier object\n",
        "svc = SVC(kernel=\"linear\", probability=True, random_state=0)\n",
        "\n",
        "# Train classifier\n",
        "model = svc.fit(features_standardized, target)\n",
        "\n",
        "# Create new observation\n",
        "new_observation = [[.4, .4, .4, .4]]\n",
        "\n",
        "# View predicted probabilities\n",
        "model.predict_proba(new_observation)"
      ],
      "execution_count": null,
      "outputs": [
        {
          "output_type": "execute_result",
          "data": {
            "text/plain": [
              "array([[0.00623541, 0.96973799, 0.0240266 ]])"
            ]
          },
          "metadata": {
            "tags": []
          },
          "execution_count": 41
        }
      ]
    },
    {
      "cell_type": "markdown",
      "metadata": {
        "id": "9Fngt-9wbMWF"
      },
      "source": [
        "Identifying Support Vectors"
      ]
    },
    {
      "cell_type": "code",
      "metadata": {
        "colab": {
          "base_uri": "https://localhost:8080/"
        },
        "id": "XfhQiFsobNsU",
        "outputId": "8ffa99f5-c64c-40b0-eb1a-7152089fdc4b"
      },
      "source": [
        "#Load data with only two classes\n",
        "iris = datasets.load_iris()\n",
        "features = iris.data[:100,:]\n",
        "target = iris.target[:100]\n",
        "\n",
        "# Standardize features\n",
        "scaler = StandardScaler()\n",
        "features_standardized = scaler.fit_transform(features)\n",
        "\n",
        "# Create support vector classifier object\n",
        "svc = SVC(kernel=\"linear\", random_state=0)\n",
        "\n",
        "# Train classifier\n",
        "model = svc.fit(features_standardized, target)\n",
        "\n",
        "# View support vectors\n",
        "model.support_vectors_\n",
        "\n",
        "#Alpha coefs\n",
        "alphas = np.abs(svc.dual_coef_)\n",
        "print(alphas)"
      ],
      "execution_count": null,
      "outputs": [
        {
          "output_type": "stream",
          "text": [
            "[[0.26437481 0.35454649 0.21024209 0.40867921]]\n"
          ],
          "name": "stdout"
        }
      ]
    },
    {
      "cell_type": "code",
      "metadata": {
        "colab": {
          "base_uri": "https://localhost:8080/"
        },
        "id": "A51eu6QjbXoD",
        "outputId": "877b5fcf-4fe3-4de1-9855-435a6629550e"
      },
      "source": [
        "model.support_\n",
        "model.n_support_"
      ],
      "execution_count": null,
      "outputs": [
        {
          "output_type": "execute_result",
          "data": {
            "text/plain": [
              "array([2, 2], dtype=int32)"
            ]
          },
          "metadata": {
            "tags": []
          },
          "execution_count": 44
        }
      ]
    },
    {
      "cell_type": "markdown",
      "metadata": {
        "id": "tygoi53ubgLD"
      },
      "source": [
        "Handling Imbalanced Classes - increase the penalty using class_weight."
      ]
    },
    {
      "cell_type": "code",
      "metadata": {
        "id": "Uz8xVZ8FbftJ"
      },
      "source": [
        "#Load data with only two classes\n",
        "iris = datasets.load_iris()\n",
        "features = iris.data[:100,:]\n",
        "target = iris.target[:100]\n",
        "\n",
        "# Make class highly imbalanced by removing first 40 observations\n",
        "features = features[40:,:]\n",
        "target = target[40:]\n",
        "\n",
        "# Create target vector indicating if class 0, otherwise 1\n",
        "target = np.where((target == 0), 0, 1)\n",
        "\n",
        "# Standardize features\n",
        "scaler = StandardScaler()\n",
        "features_standardized = scaler.fit_transform(features)\n",
        "\n",
        "# Create support vector classifier\n",
        "svc = SVC(kernel=\"linear\", class_weight=\"balanced\", C=1.0, random_state=0)\n",
        "\n",
        "# Train classifier\n",
        "model = svc.fit(features_standardized, target)"
      ],
      "execution_count": null,
      "outputs": []
    }
  ]
}